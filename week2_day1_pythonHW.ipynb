{
 "cells": [
  {
   "cell_type": "code",
   "execution_count": 5,
   "id": "97299356",
   "metadata": {},
   "outputs": [
    {
     "name": "stdout",
     "output_type": "stream",
     "text": [
      "0\n",
      "1\n",
      "8\n",
      "27\n",
      "64\n",
      "125\n",
      "216\n",
      "343\n",
      "512\n",
      "729\n"
     ]
    }
   ],
   "source": [
    "## Exercise #1\n",
    "#Cube Number Test... Print out all cubed numbers up to the total value 1000. Meaning that if the cubed number is over 1000 break the loop.\n",
    "\n",
    "num = 0\n",
    "\n",
    "for i in range(0,1001,1):\n",
    "    num = i ** 3\n",
    "    if num >= 1000:\n",
    "        break\n",
    "    else:\n",
    "        print(num)\n"
   ]
  },
  {
   "cell_type": "code",
   "execution_count": 3,
   "id": "395c9ac5",
   "metadata": {},
   "outputs": [
    {
     "name": "stdout",
     "output_type": "stream",
     "text": [
      "2\n",
      "3\n",
      "5\n",
      "7\n",
      "11\n",
      "13\n",
      "17\n",
      "19\n",
      "23\n",
      "29\n",
      "31\n",
      "37\n",
      "41\n",
      "43\n",
      "47\n",
      "53\n",
      "59\n",
      "61\n",
      "67\n",
      "71\n",
      "73\n",
      "79\n",
      "83\n",
      "89\n",
      "97\n"
     ]
    }
   ],
   "source": [
    "## Exercise #2\n",
    "#Get first prime numbers up to 100\n",
    "\n",
    "# HINT::\n",
    "# An else after an if runs if the if didn’t\n",
    "# An else after a for runs if the for didn’t break\n",
    "\n",
    "for i in range(2,101,1):    #Here I'm creating a list of numbers from 2-100 to be iterated through\n",
    "    for n in range(2,101,1):    #This for loop takes each number in that list and checks if it's divisible by any other number in the list\n",
    "        if i%n == 0:    #When we find a number that goes evenly into the number we're checking then either it is not prime or it equals itself, so we break to check\n",
    "            break\n",
    "    if i == n:    #if the number we're checking is equal to itself, then all the numbers checked before it generated a remainder, so we know it is prime & can go ahead and print it\n",
    "        print(i)\n",
    "\n",
    "\n",
    "#needed to comment that out for my own mental organization x_x\n"
   ]
  },
  {
   "cell_type": "code",
   "execution_count": 2,
   "id": "f6d3151c",
   "metadata": {},
   "outputs": [
    {
     "name": "stdout",
     "output_type": "stream",
     "text": [
      "What is your age?\n",
      "31\n",
      "adults\n"
     ]
    }
   ],
   "source": [
    "# Exercise 3\n",
    "#Take in a users input for their age, if they are younger than 18 print kids, if they're 18 to 65 print adults, else print seniors\n",
    "\n",
    "age = int(input(\"What is your age?\\n\"))\n",
    "\n",
    "if age < 18:\n",
    "    print(\"kids\")\n",
    "    \n",
    "elif age <= 65:\n",
    "    print(\"adults\")\n",
    "    \n",
    "else:\n",
    "    print(\"seniors\")"
   ]
  }
 ],
 "metadata": {
  "kernelspec": {
   "display_name": "Python 3 (ipykernel)",
   "language": "python",
   "name": "python3"
  },
  "language_info": {
   "codemirror_mode": {
    "name": "ipython",
    "version": 3
   },
   "file_extension": ".py",
   "mimetype": "text/x-python",
   "name": "python",
   "nbconvert_exporter": "python",
   "pygments_lexer": "ipython3",
   "version": "3.9.7"
  }
 },
 "nbformat": 4,
 "nbformat_minor": 5
}
